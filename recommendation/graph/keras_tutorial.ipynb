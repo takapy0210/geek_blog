{
 "cells": [
  {
   "cell_type": "markdown",
   "id": "1719e543-9c76-4ad0-b637-da3e5360a6d7",
   "metadata": {},
   "source": [
    "# Graph Embeddingについて学ぶ\n",
    "\n",
    "- いくつか参考資料を漁りながら、手を動かして学んでいく。"
   ]
  },
  {
   "cell_type": "markdown",
   "id": "882500f4-1f31-4b5c-96da-d291b3e713ee",
   "metadata": {},
   "source": [
    "# kerasの公式チュートリアル\n",
    "- https://keras.io/examples/graph/node2vec_movielens/"
   ]
  },
  {
   "cell_type": "markdown",
   "id": "1ba83b02-b738-434d-9821-fc6e0ae4a361",
   "metadata": {},
   "source": [
    "## はじめに\n",
    "\n",
    "グラフで構成されるオブジェクトから有用な表現を学習することは、社会的ネットワークやコミュニケーションネットワークの分析、生物医学研究、推薦システムなど、様々な機械学習（ML）アプリケーションに有用である。グラフ表現学習では、グラフのノードに対する埋め込み表現を学習し、ノードラベル予測（例：引用文献に基づく論文分類）やリンク予測（例：ソーシャルネットワーク上のユーザに興味あるグループを推薦する）など、様々なMLタスクに利用することを目指している。\n",
    "\n",
    "node2vecは、グラフ内のノードの低次元埋め込みを、近傍保存目的を最適化することで学習する、シンプルでありながらスケーラブルで効果的な手法である。その目的は、グラフ構造に関して、近傍ノードの類似した埋め込みを学習することである。\n",
    "\n",
    "データ項目がグラフ構造（項目はノード、項目間の関係はエッジで表現）になっている場合、node2vecは以下のように動作します。\n",
    "\n",
    "- 項目列を（偏った）ランダムウォークで生成する。\n",
    "- これらの列から正と負の学習例を作成する。\n",
    "- 単語2vecモデル（skip-gram）を学習し、アイテムの埋め込みを学習する。\n",
    "- この例では、Movielensデータセットの小型版を用いて、node2vecによる映画の埋め込みを学習するデモを行う。このようなデータセットは、映画をノードとして扱い、ユーザによる評価が類似している映画間にエッジを作成することでグラフとして表現することができる。学習された映画の埋め込みは、映画の推薦や映画のジャンル予測などのタスクに利用することができる。\n",
    "\n",
    "この例ではnetworkxパッケージが必要です。以下のコマンドでインストールできます。"
   ]
  },
  {
   "cell_type": "code",
   "execution_count": 1,
   "id": "1e3870bf-6660-4bf0-80af-3ae1c0fe7f69",
   "metadata": {},
   "outputs": [],
   "source": [
    "import os\n",
    "from collections import defaultdict\n",
    "import math\n",
    "import networkx as nx\n",
    "import random\n",
    "from tqdm import tqdm\n",
    "from zipfile import ZipFile\n",
    "from urllib.request import urlretrieve\n",
    "import numpy as np\n",
    "import pandas as pd\n",
    "import tensorflow as tf\n",
    "from tensorflow import keras\n",
    "from tensorflow.keras import layers\n",
    "import matplotlib.pyplot as plt"
   ]
  },
  {
   "cell_type": "code",
   "execution_count": 2,
   "id": "69d20916-e412-4023-9706-536d243674fe",
   "metadata": {},
   "outputs": [],
   "source": [
    "# pandas系\n",
    "pd.set_option('display.max_columns', 500)\n",
    "pd.set_option('display.max_rows', 300)\n",
    "pd.set_option('display.max_colwidth', 300)\n",
    "pd.options.display.float_format = '{:.5f}'.format\n",
    "# 可視化系\n",
    "%matplotlib inline"
   ]
  },
  {
   "cell_type": "markdown",
   "id": "d29fdc4c-02b4-409c-8d8c-fd8177dd7445",
   "metadata": {},
   "source": [
    "## MovieLensデータセットのダウンロードとデータの準備\n",
    "MovieLensデータセットのスモールバージョンには、9,742本の映画に対して610人のユーザーから寄せられた約100kの評価が含まれています。\n",
    "\n",
    "まず、データセットをダウンロードしましょう。ダウンロードしたフォルダには、users.csv、movies.csv、ratings.csvの3つのデータファイルが入っています。今回の例では、movies.datとratings.datのデータファイルのみが必要です。"
   ]
  },
  {
   "cell_type": "code",
   "execution_count": 3,
   "id": "2700cf2c-749d-4899-8b6f-cf385a863121",
   "metadata": {},
   "outputs": [],
   "source": [
    "# urlretrieve(\n",
    "#     \"http://files.grouplens.org/datasets/movielens/ml-latest-small.zip\", \"movielens.zip\"\n",
    "# )\n",
    "# ZipFile(\"movielens.zip\", \"r\").extractall()"
   ]
  },
  {
   "cell_type": "markdown",
   "id": "53296383-d340-4759-a405-6253b9b2f31c",
   "metadata": {},
   "source": [
    "### data load"
   ]
  },
  {
   "cell_type": "code",
   "execution_count": 4,
   "id": "85f1159f-f37e-41a2-a838-a23bb12df345",
   "metadata": {},
   "outputs": [
    {
     "name": "stdout",
     "output_type": "stream",
     "text": [
      "Movies data shape: (9742, 3)\n",
      "Ratings data shape: (100836, 4)\n"
     ]
    }
   ],
   "source": [
    "# Load movies to a DataFrame.\n",
    "movies = pd.read_csv(\"ml-latest-small/movies.csv\")\n",
    "# Create a `movieId` string.\n",
    "movies[\"movieId\"] = movies[\"movieId\"].apply(lambda x: f\"movie_{x}\")\n",
    "\n",
    "# Load ratings to a DataFrame.\n",
    "ratings = pd.read_csv(\"ml-latest-small/ratings.csv\")\n",
    "# Convert the `ratings` to floating point\n",
    "ratings[\"rating\"] = ratings[\"rating\"].apply(lambda x: float(x))\n",
    "# Create the `movie_id` string.\n",
    "ratings[\"movieId\"] = ratings[\"movieId\"].apply(lambda x: f\"movie_{x}\")\n",
    "\n",
    "print(\"Movies data shape:\", movies.shape)\n",
    "print(\"Ratings data shape:\", ratings.shape)"
   ]
  },
  {
   "cell_type": "code",
   "execution_count": 5,
   "id": "9ed6ccd8-bfc2-4c14-8f3b-cba314d7ee62",
   "metadata": {},
   "outputs": [
    {
     "data": {
      "text/html": [
       "<div>\n",
       "<style scoped>\n",
       "    .dataframe tbody tr th:only-of-type {\n",
       "        vertical-align: middle;\n",
       "    }\n",
       "\n",
       "    .dataframe tbody tr th {\n",
       "        vertical-align: top;\n",
       "    }\n",
       "\n",
       "    .dataframe thead th {\n",
       "        text-align: right;\n",
       "    }\n",
       "</style>\n",
       "<table border=\"1\" class=\"dataframe\">\n",
       "  <thead>\n",
       "    <tr style=\"text-align: right;\">\n",
       "      <th></th>\n",
       "      <th>movieId</th>\n",
       "      <th>title</th>\n",
       "      <th>genres</th>\n",
       "    </tr>\n",
       "  </thead>\n",
       "  <tbody>\n",
       "    <tr>\n",
       "      <th>0</th>\n",
       "      <td>movie_1</td>\n",
       "      <td>Toy Story (1995)</td>\n",
       "      <td>Adventure|Animation|Children|Comedy|Fantasy</td>\n",
       "    </tr>\n",
       "    <tr>\n",
       "      <th>1</th>\n",
       "      <td>movie_2</td>\n",
       "      <td>Jumanji (1995)</td>\n",
       "      <td>Adventure|Children|Fantasy</td>\n",
       "    </tr>\n",
       "    <tr>\n",
       "      <th>2</th>\n",
       "      <td>movie_3</td>\n",
       "      <td>Grumpier Old Men (1995)</td>\n",
       "      <td>Comedy|Romance</td>\n",
       "    </tr>\n",
       "    <tr>\n",
       "      <th>3</th>\n",
       "      <td>movie_4</td>\n",
       "      <td>Waiting to Exhale (1995)</td>\n",
       "      <td>Comedy|Drama|Romance</td>\n",
       "    </tr>\n",
       "    <tr>\n",
       "      <th>4</th>\n",
       "      <td>movie_5</td>\n",
       "      <td>Father of the Bride Part II (1995)</td>\n",
       "      <td>Comedy</td>\n",
       "    </tr>\n",
       "    <tr>\n",
       "      <th>...</th>\n",
       "      <td>...</td>\n",
       "      <td>...</td>\n",
       "      <td>...</td>\n",
       "    </tr>\n",
       "    <tr>\n",
       "      <th>9737</th>\n",
       "      <td>movie_193581</td>\n",
       "      <td>Black Butler: Book of the Atlantic (2017)</td>\n",
       "      <td>Action|Animation|Comedy|Fantasy</td>\n",
       "    </tr>\n",
       "    <tr>\n",
       "      <th>9738</th>\n",
       "      <td>movie_193583</td>\n",
       "      <td>No Game No Life: Zero (2017)</td>\n",
       "      <td>Animation|Comedy|Fantasy</td>\n",
       "    </tr>\n",
       "    <tr>\n",
       "      <th>9739</th>\n",
       "      <td>movie_193585</td>\n",
       "      <td>Flint (2017)</td>\n",
       "      <td>Drama</td>\n",
       "    </tr>\n",
       "    <tr>\n",
       "      <th>9740</th>\n",
       "      <td>movie_193587</td>\n",
       "      <td>Bungo Stray Dogs: Dead Apple (2018)</td>\n",
       "      <td>Action|Animation</td>\n",
       "    </tr>\n",
       "    <tr>\n",
       "      <th>9741</th>\n",
       "      <td>movie_193609</td>\n",
       "      <td>Andrew Dice Clay: Dice Rules (1991)</td>\n",
       "      <td>Comedy</td>\n",
       "    </tr>\n",
       "  </tbody>\n",
       "</table>\n",
       "<p>9742 rows × 3 columns</p>\n",
       "</div>"
      ],
      "text/plain": [
       "           movieId                                      title  \\\n",
       "0          movie_1                           Toy Story (1995)   \n",
       "1          movie_2                             Jumanji (1995)   \n",
       "2          movie_3                    Grumpier Old Men (1995)   \n",
       "3          movie_4                   Waiting to Exhale (1995)   \n",
       "4          movie_5         Father of the Bride Part II (1995)   \n",
       "...            ...                                        ...   \n",
       "9737  movie_193581  Black Butler: Book of the Atlantic (2017)   \n",
       "9738  movie_193583               No Game No Life: Zero (2017)   \n",
       "9739  movie_193585                               Flint (2017)   \n",
       "9740  movie_193587        Bungo Stray Dogs: Dead Apple (2018)   \n",
       "9741  movie_193609        Andrew Dice Clay: Dice Rules (1991)   \n",
       "\n",
       "                                           genres  \n",
       "0     Adventure|Animation|Children|Comedy|Fantasy  \n",
       "1                      Adventure|Children|Fantasy  \n",
       "2                                  Comedy|Romance  \n",
       "3                            Comedy|Drama|Romance  \n",
       "4                                          Comedy  \n",
       "...                                           ...  \n",
       "9737              Action|Animation|Comedy|Fantasy  \n",
       "9738                     Animation|Comedy|Fantasy  \n",
       "9739                                        Drama  \n",
       "9740                             Action|Animation  \n",
       "9741                                       Comedy  \n",
       "\n",
       "[9742 rows x 3 columns]"
      ]
     },
     "execution_count": 5,
     "metadata": {},
     "output_type": "execute_result"
    }
   ],
   "source": [
    "movies"
   ]
  },
  {
   "cell_type": "code",
   "execution_count": 6,
   "id": "46138f1f-3123-405c-a96f-979631cd5e1c",
   "metadata": {},
   "outputs": [
    {
     "data": {
      "text/html": [
       "<div>\n",
       "<style scoped>\n",
       "    .dataframe tbody tr th:only-of-type {\n",
       "        vertical-align: middle;\n",
       "    }\n",
       "\n",
       "    .dataframe tbody tr th {\n",
       "        vertical-align: top;\n",
       "    }\n",
       "\n",
       "    .dataframe thead th {\n",
       "        text-align: right;\n",
       "    }\n",
       "</style>\n",
       "<table border=\"1\" class=\"dataframe\">\n",
       "  <thead>\n",
       "    <tr style=\"text-align: right;\">\n",
       "      <th></th>\n",
       "      <th>userId</th>\n",
       "      <th>movieId</th>\n",
       "      <th>rating</th>\n",
       "      <th>timestamp</th>\n",
       "    </tr>\n",
       "  </thead>\n",
       "  <tbody>\n",
       "    <tr>\n",
       "      <th>0</th>\n",
       "      <td>1</td>\n",
       "      <td>movie_1</td>\n",
       "      <td>4.00000</td>\n",
       "      <td>964982703</td>\n",
       "    </tr>\n",
       "    <tr>\n",
       "      <th>1</th>\n",
       "      <td>1</td>\n",
       "      <td>movie_3</td>\n",
       "      <td>4.00000</td>\n",
       "      <td>964981247</td>\n",
       "    </tr>\n",
       "    <tr>\n",
       "      <th>2</th>\n",
       "      <td>1</td>\n",
       "      <td>movie_6</td>\n",
       "      <td>4.00000</td>\n",
       "      <td>964982224</td>\n",
       "    </tr>\n",
       "    <tr>\n",
       "      <th>3</th>\n",
       "      <td>1</td>\n",
       "      <td>movie_47</td>\n",
       "      <td>5.00000</td>\n",
       "      <td>964983815</td>\n",
       "    </tr>\n",
       "    <tr>\n",
       "      <th>4</th>\n",
       "      <td>1</td>\n",
       "      <td>movie_50</td>\n",
       "      <td>5.00000</td>\n",
       "      <td>964982931</td>\n",
       "    </tr>\n",
       "    <tr>\n",
       "      <th>...</th>\n",
       "      <td>...</td>\n",
       "      <td>...</td>\n",
       "      <td>...</td>\n",
       "      <td>...</td>\n",
       "    </tr>\n",
       "    <tr>\n",
       "      <th>100831</th>\n",
       "      <td>610</td>\n",
       "      <td>movie_166534</td>\n",
       "      <td>4.00000</td>\n",
       "      <td>1493848402</td>\n",
       "    </tr>\n",
       "    <tr>\n",
       "      <th>100832</th>\n",
       "      <td>610</td>\n",
       "      <td>movie_168248</td>\n",
       "      <td>5.00000</td>\n",
       "      <td>1493850091</td>\n",
       "    </tr>\n",
       "    <tr>\n",
       "      <th>100833</th>\n",
       "      <td>610</td>\n",
       "      <td>movie_168250</td>\n",
       "      <td>5.00000</td>\n",
       "      <td>1494273047</td>\n",
       "    </tr>\n",
       "    <tr>\n",
       "      <th>100834</th>\n",
       "      <td>610</td>\n",
       "      <td>movie_168252</td>\n",
       "      <td>5.00000</td>\n",
       "      <td>1493846352</td>\n",
       "    </tr>\n",
       "    <tr>\n",
       "      <th>100835</th>\n",
       "      <td>610</td>\n",
       "      <td>movie_170875</td>\n",
       "      <td>3.00000</td>\n",
       "      <td>1493846415</td>\n",
       "    </tr>\n",
       "  </tbody>\n",
       "</table>\n",
       "<p>100836 rows × 4 columns</p>\n",
       "</div>"
      ],
      "text/plain": [
       "        userId       movieId  rating   timestamp\n",
       "0            1       movie_1 4.00000   964982703\n",
       "1            1       movie_3 4.00000   964981247\n",
       "2            1       movie_6 4.00000   964982224\n",
       "3            1      movie_47 5.00000   964983815\n",
       "4            1      movie_50 5.00000   964982931\n",
       "...        ...           ...     ...         ...\n",
       "100831     610  movie_166534 4.00000  1493848402\n",
       "100832     610  movie_168248 5.00000  1493850091\n",
       "100833     610  movie_168250 5.00000  1494273047\n",
       "100834     610  movie_168252 5.00000  1493846352\n",
       "100835     610  movie_170875 3.00000  1493846415\n",
       "\n",
       "[100836 rows x 4 columns]"
      ]
     },
     "execution_count": 6,
     "metadata": {},
     "output_type": "execute_result"
    }
   ],
   "source": [
    "ratings"
   ]
  },
  {
   "cell_type": "markdown",
   "id": "d1238a2d-68a9-46f3-9c87-d8e836225615",
   "metadata": {},
   "source": [
    "### util function"
   ]
  },
  {
   "cell_type": "code",
   "execution_count": 7,
   "id": "5ea1e1ad-0c38-400d-a894-23f39a3292f7",
   "metadata": {},
   "outputs": [],
   "source": [
    "def get_movie_title_by_id(movieId):\n",
    "    \"\"\"タイトルからidを取得する\"\"\"\n",
    "    return list(movies[movies.movieId == movieId].title)[0]\n",
    "\n",
    "\n",
    "def get_movie_id_by_title(title):\n",
    "    \"\"\"idからタイトルを取得する\"\"\"\n",
    "    return list(movies[movies.title == title].movieId)[0]"
   ]
  },
  {
   "cell_type": "markdown",
   "id": "ce3b9653-28c4-40f0-a185-c8912f5097a4",
   "metadata": {},
   "source": [
    "## ムービーグラフの構築\n",
    "グラフ内の2つのムービーノードの間に、2つのムービーが同じユーザによって評価されている場合、≧min_ratingのエッジを作成します。  \n",
    "エッジの重みは、2つのムービー間の点ごとの相互情報に基づいており、次のように計算されます： log(xy) - log(x) - log(y) + log(D), ここで。\n",
    "\n",
    "- xy は、min_rating以上でで映画 x と映画 y の両方を評価したユーザの数です。\n",
    "- x は、min_rating以上で映画 x を評価したユーザの数です。\n",
    "- y は、min_rating以上で映画 y を評価したユーザの数です。\n",
    "- D は、min_rating以上で映画が評価された合計数です。"
   ]
  },
  {
   "cell_type": "markdown",
   "id": "7fea9765-ba11-4745-9db4-046568f952b9",
   "metadata": {},
   "source": [
    "### Step 1: create the weighted edges between movies."
   ]
  },
  {
   "cell_type": "code",
   "execution_count": 8,
   "id": "a75fffd1-069c-4f18-9a82-ba8694dd83b9",
   "metadata": {},
   "outputs": [
    {
     "name": "stderr",
     "output_type": "stream",
     "text": [
      "Compute movie rating frequencies: 100%|██████████| 573/573 [00:00<00:00, 2234.08it/s]\n"
     ]
    }
   ],
   "source": [
    "min_rating = 5\n",
    "pair_frequency = defaultdict(int)  # 各映画の組み合わせが何人のユーザーに評価されたかの辞書。 (movie1, movie2): total_rating_count\n",
    "item_frequency = defaultdict(int)  # その映画を評価したユーザーが何人いるかの辞書。 movie_id:total_rating_count\n",
    "\n",
    "# Filter instances where rating is greater than or equal to min_rating.\n",
    "rated_movies = ratings[ratings.rating >= min_rating]\n",
    "\n",
    "# Group instances by user.\n",
    "movies_grouped_by_users = list(rated_movies.groupby(\"userId\"))\n",
    "\n",
    "for group in tqdm(\n",
    "    movies_grouped_by_users,\n",
    "    position=0,\n",
    "    leave=True,\n",
    "    desc=\"Compute movie rating frequencies\",\n",
    "):\n",
    "    # Get a list of movies rated by the user.\n",
    "    # 現在のループuserが見た映画idのリスト\n",
    "    current_movies = list(group[1][\"movieId\"])\n",
    "\n",
    "    for i in range(len(current_movies)):\n",
    "        item_frequency[current_movies[i]] += 1\n",
    "        for j in range(i + 1, len(current_movies)):\n",
    "            x = min(current_movies[i], current_movies[j])\n",
    "            y = max(current_movies[i], current_movies[j])\n",
    "            pair_frequency[(x, y)] += 1"
   ]
  },
  {
   "cell_type": "code",
   "execution_count": 9,
   "id": "5ddde7a8-b1e2-4562-9f28-6964e400d035",
   "metadata": {},
   "outputs": [
    {
     "data": {
      "text/html": [
       "<div>\n",
       "<style scoped>\n",
       "    .dataframe tbody tr th:only-of-type {\n",
       "        vertical-align: middle;\n",
       "    }\n",
       "\n",
       "    .dataframe tbody tr th {\n",
       "        vertical-align: top;\n",
       "    }\n",
       "\n",
       "    .dataframe thead th {\n",
       "        text-align: right;\n",
       "    }\n",
       "</style>\n",
       "<table border=\"1\" class=\"dataframe\">\n",
       "  <thead>\n",
       "    <tr style=\"text-align: right;\">\n",
       "      <th></th>\n",
       "      <th>userId</th>\n",
       "      <th>movieId</th>\n",
       "      <th>rating</th>\n",
       "      <th>timestamp</th>\n",
       "    </tr>\n",
       "  </thead>\n",
       "  <tbody>\n",
       "    <tr>\n",
       "      <th>3</th>\n",
       "      <td>1</td>\n",
       "      <td>movie_47</td>\n",
       "      <td>5.00000</td>\n",
       "      <td>964983815</td>\n",
       "    </tr>\n",
       "    <tr>\n",
       "      <th>4</th>\n",
       "      <td>1</td>\n",
       "      <td>movie_50</td>\n",
       "      <td>5.00000</td>\n",
       "      <td>964982931</td>\n",
       "    </tr>\n",
       "    <tr>\n",
       "      <th>6</th>\n",
       "      <td>1</td>\n",
       "      <td>movie_101</td>\n",
       "      <td>5.00000</td>\n",
       "      <td>964980868</td>\n",
       "    </tr>\n",
       "    <tr>\n",
       "      <th>8</th>\n",
       "      <td>1</td>\n",
       "      <td>movie_151</td>\n",
       "      <td>5.00000</td>\n",
       "      <td>964984041</td>\n",
       "    </tr>\n",
       "    <tr>\n",
       "      <th>9</th>\n",
       "      <td>1</td>\n",
       "      <td>movie_157</td>\n",
       "      <td>5.00000</td>\n",
       "      <td>964984100</td>\n",
       "    </tr>\n",
       "  </tbody>\n",
       "</table>\n",
       "</div>"
      ],
      "text/plain": [
       "   userId    movieId  rating  timestamp\n",
       "3       1   movie_47 5.00000  964983815\n",
       "4       1   movie_50 5.00000  964982931\n",
       "6       1  movie_101 5.00000  964980868\n",
       "8       1  movie_151 5.00000  964984041\n",
       "9       1  movie_157 5.00000  964984100"
      ]
     },
     "execution_count": 9,
     "metadata": {},
     "output_type": "execute_result"
    }
   ],
   "source": [
    "rated_movies.head()"
   ]
  },
  {
   "cell_type": "code",
   "execution_count": 10,
   "id": "2b477eba-96fb-4913-882d-0ccf0b8311c4",
   "metadata": {},
   "outputs": [],
   "source": [
    "# 動作確認\n",
    "# list(rated_movies.groupby(\"userId\"))[0][1][\"movieId\"]\n",
    "# item_frequency\n",
    "# pair_frequency"
   ]
  },
  {
   "cell_type": "markdown",
   "id": "b54f8159-eb3b-476e-b874-a8db9efb1ab5",
   "metadata": {},
   "source": [
    "### Step 2: create the graph with the nodes and the edges\n",
    "\n",
    "ノード間のエッジの数を減らすために、ムービー間のエッジの重みがmin_weightよりも大きい場合のみ、エッジを追加します。  \n",
    "ここでの重みは、評価ユーザー数となります。"
   ]
  },
  {
   "cell_type": "code",
   "execution_count": 11,
   "id": "f5994f88-f731-4b03-afd2-eb088a226aa1",
   "metadata": {},
   "outputs": [
    {
     "name": "stdout",
     "output_type": "stream",
     "text": [
      "D is :9.488805094878353\n"
     ]
    },
    {
     "name": "stderr",
     "output_type": "stream",
     "text": [
      "Creating the movie graph: 100%|██████████| 298586/298586 [00:00<00:00, 1203680.02it/s]\n"
     ]
    }
   ],
   "source": [
    "min_weight = 10\n",
    "D = math.log(sum(item_frequency.values()))\n",
    "\n",
    "# Create the movies undirected graph.\n",
    "# 映画情報の無向グラフを生成\n",
    "movies_graph = nx.Graph()\n",
    "\n",
    "# Add weighted edges between movies.\n",
    "# This automatically adds the movie nodes to the graph.\n",
    "for pair in tqdm(\n",
    "    pair_frequency, position=0, leave=True, desc=\"Creating the movie graph\"\n",
    "):\n",
    "    x, y = pair  # 映画の組み合わせを取得\n",
    "    xy_frequency = pair_frequency[pair]  # 2つの組み合わせを両方評価したユーザー数\n",
    "    x_frequency = item_frequency[x]  # 映画 x を評価したユーザの数\n",
    "    y_frequency = item_frequency[y]  # 映画 y を評価したユーザの数\n",
    "    pmi = math.log(xy_frequency) - math.log(x_frequency) - math.log(y_frequency) + D\n",
    "    weight = pmi * xy_frequency  # エッジの重み\n",
    "\n",
    "    # Only include edges with weight >= min_weight.\n",
    "    if weight >= min_weight:\n",
    "        movies_graph.add_edge(x, y, weight=weight)"
   ]
  },
  {
   "cell_type": "markdown",
   "id": "07c2f732-3852-4adf-8fd1-d44321097b3e",
   "metadata": {},
   "source": [
    "グラフのノードとエッジの総数を表示してみましょう。  \n",
    "なお、他のムービーとの間にエッジを持つムービーのみが追加されるため、ノードの数はムービーの総数よりも少なくなっています。"
   ]
  },
  {
   "cell_type": "code",
   "execution_count": 13,
   "id": "f20a57fb-75e3-4af7-837f-8537426c1009",
   "metadata": {},
   "outputs": [
    {
     "name": "stdout",
     "output_type": "stream",
     "text": [
      "Total number of graph nodes: 1405\n",
      "Total number of graph edges: 40043\n"
     ]
    }
   ],
   "source": [
    "print(\"Total number of graph nodes:\", movies_graph.number_of_nodes())\n",
    "print(\"Total number of graph edges:\", movies_graph.number_of_edges())"
   ]
  },
  {
   "cell_type": "markdown",
   "id": "d7797d52-0ddc-4140-af32-109ac6e806ae",
   "metadata": {},
   "source": [
    "グラフの平均ノード次数（隣人数）を表示してみましょう。"
   ]
  },
  {
   "cell_type": "code",
   "execution_count": 15,
   "id": "d056a87b-d873-45b2-8ecd-0afc3676d505",
   "metadata": {},
   "outputs": [
    {
     "name": "stdout",
     "output_type": "stream",
     "text": [
      "Average node degree: 57.0\n"
     ]
    }
   ],
   "source": [
    "degrees = []\n",
    "for node in movies_graph.nodes:\n",
    "    degrees.append(movies_graph.degree[node])\n",
    "\n",
    "print(\"Average node degree:\", round(sum(degrees) / len(degrees), 2))"
   ]
  },
  {
   "cell_type": "markdown",
   "id": "692e8dcb-fb6f-4515-965f-850438e92981",
   "metadata": {},
   "source": [
    "### Step 3: Create vocabulary and a mapping from tokens to integer indices\n",
    "\n",
    "語彙は、グラフのノード（映画ID）である。"
   ]
  },
  {
   "cell_type": "code",
   "execution_count": 16,
   "id": "923e470b-54a5-4ff4-b9ab-91da88d0e078",
   "metadata": {},
   "outputs": [],
   "source": [
    "vocabulary = [\"NA\"] + list(movies_graph.nodes)\n",
    "vocabulary_lookup = {token: idx for idx, token in enumerate(vocabulary)}"
   ]
  },
  {
   "cell_type": "code",
   "execution_count": 18,
   "id": "b32b3a7a-ea1c-439e-a8bc-2402a242b8e0",
   "metadata": {},
   "outputs": [],
   "source": [
    "# 確認\n",
    "# vocabulary_lookup"
   ]
  },
  {
   "cell_type": "markdown",
   "id": "27968385-befb-4031-8943-50b55b352a10",
   "metadata": {},
   "source": [
    "## 偏ったランダムウォークの実装\n",
    "\n",
    "ランダムウォークは与えられたノードから出発し、移動先の近隣ノードをランダムに選択します。  \n",
    "エッジが重み付けされている場合は、現在のノードとその近隣ノードの間のエッジの重みに関して確率的に近隣ノードが選択される。  \n",
    "この手順を num_steps 分繰り返すことで、関連するノードのシーケンスを生成します。\n",
    "\n",
    "偏ったランダムウォークは、以下の2つのパラメータを導入することで、breadth-firstサンプリング（局所的な隣人のみを訪問する）とdepth-firstサンプリング（遠方の隣人を訪問する）のバランスをとっています。\n",
    "\n",
    "1. リターンパラメータ（p）:探索中のノードをすぐに再訪する可能性を制御します．高い値を設定すると適度な探索が行われ、低い値を設定すると局所的な探索が行われる。\n",
    "2. In-outパラメータ（q）:内向きのノードと外向きのノードを区別することができます。高い値を設定するとランダムウォークがローカルノードに偏り、低い値を設定すると遠くのノードを訪れるようになります。"
   ]
  },
  {
   "cell_type": "code",
   "execution_count": 19,
   "id": "25aca470-47d1-4887-912c-5444588951f7",
   "metadata": {},
   "outputs": [],
   "source": [
    "def next_step(graph, previous, current, p, q):\n",
    "    neighbors = list(graph.neighbors(current))\n",
    "\n",
    "    weights = []\n",
    "    # Adjust the weights of the edges to the neighbors with respect to p and q.\n",
    "    for neighbor in neighbors:\n",
    "        if neighbor == previous:\n",
    "            # Control the probability to return to the previous node.\n",
    "            weights.append(graph[current][neighbor][\"weight\"] / p)\n",
    "        elif graph.has_edge(neighbor, previous):\n",
    "            # The probability of visiting a local node.\n",
    "            weights.append(graph[current][neighbor][\"weight\"])\n",
    "        else:\n",
    "            # Control the probability to move forward.\n",
    "            weights.append(graph[current][neighbor][\"weight\"] / q)\n",
    "\n",
    "    # Compute the probabilities of visiting each neighbor.\n",
    "    weight_sum = sum(weights)\n",
    "    probabilities = [weight / weight_sum for weight in weights]\n",
    "\n",
    "    # Probabilistically select a neighbor to visit.\n",
    "    next = np.random.choice(neighbors, size=1, p=probabilities)[0]\n",
    "    return next\n",
    "\n",
    "\n",
    "def random_walk(graph, num_walks, num_steps, p, q):\n",
    "    walks = []\n",
    "    nodes = list(graph.nodes())\n",
    "    # Perform multiple iterations of the random walk.\n",
    "    for walk_iteration in range(num_walks):\n",
    "        \n",
    "        # ランダムに最初のノードを決定するためにシャッフル\n",
    "        random.shuffle(nodes)\n",
    "\n",
    "        for node in tqdm(\n",
    "            nodes,\n",
    "            position=0,\n",
    "            leave=True,\n",
    "            desc=f\"Random walks iteration {walk_iteration + 1} of {num_walks}\",\n",
    "        ):\n",
    "            # Start the walk with a random node from the graph.\n",
    "            walk = [node]\n",
    "            # Randomly walk for num_steps.\n",
    "            while len(walk) < num_steps:\n",
    "                current = walk[-1]\n",
    "                previous = walk[-2] if len(walk) > 1 else None\n",
    "                \n",
    "                # Compute the next node to visit.\n",
    "                next = next_step(graph, previous, current, p, q)\n",
    "                walk.append(next)\n",
    "            # Replace node ids (movie ids) in the walk with token ids.\n",
    "            walk = [vocabulary_lookup[token] for token in walk]\n",
    "            # Add the walk to the generated sequence.\n",
    "            walks.append(walk)\n",
    "\n",
    "    return walks"
   ]
  },
  {
   "cell_type": "markdown",
   "id": "94abb92a-8155-457b-9349-c2044bafc136",
   "metadata": {},
   "source": [
    "### 偏ったランダムウォークを使って学習データを生成する\n",
    "pとqの設定を変えることで、関連する映画の結果を変えることができます。"
   ]
  },
  {
   "cell_type": "code",
   "execution_count": 20,
   "id": "8ce57f39-739a-4fd9-80d0-2a872bf436eb",
   "metadata": {},
   "outputs": [
    {
     "name": "stderr",
     "output_type": "stream",
     "text": [
      "Random walks iteration 1 of 5: 100%|██████████| 1405/1405 [00:02<00:00, 665.20it/s]\n",
      "Random walks iteration 2 of 5: 100%|██████████| 1405/1405 [00:02<00:00, 700.94it/s]\n",
      "Random walks iteration 3 of 5: 100%|██████████| 1405/1405 [00:02<00:00, 667.81it/s]\n",
      "Random walks iteration 4 of 5: 100%|██████████| 1405/1405 [00:02<00:00, 702.18it/s]\n",
      "Random walks iteration 5 of 5: 100%|██████████| 1405/1405 [00:02<00:00, 692.00it/s]"
     ]
    },
    {
     "name": "stdout",
     "output_type": "stream",
     "text": [
      "Number of walks generated: 7025\n"
     ]
    },
    {
     "name": "stderr",
     "output_type": "stream",
     "text": [
      "\n"
     ]
    }
   ],
   "source": [
    "# Random walk return parameter.\n",
    "p = 1\n",
    "# Random walk in-out parameter.\n",
    "q = 1\n",
    "# Number of iterations of random walks.\n",
    "num_walks = 5\n",
    "\n",
    "# Number of steps of each random walk.\n",
    "num_steps = 10\n",
    "walks = random_walk(movies_graph, num_walks, num_steps, p, q)\n",
    "\n",
    "print(\"Number of walks generated:\", len(walks))"
   ]
  },
  {
   "cell_type": "code",
   "execution_count": 23,
   "id": "9e95f361-57a3-4fde-9148-1465810eb426",
   "metadata": {},
   "outputs": [
    {
     "data": {
      "text/plain": [
       "[[1341, 978, 921, 273, 361, 940, 17, 655, 737, 670],\n",
       " [159, 134, 850, 845, 848, 266, 482, 1085, 1, 378],\n",
       " [1321, 604, 346, 319, 547, 752, 47, 48, 23, 858],\n",
       " [683, 273, 823, 137, 433, 743, 317, 210, 34, 125],\n",
       " [845, 53, 1054, 176, 327, 14, 670, 366, 833, 670]]"
      ]
     },
     "execution_count": 23,
     "metadata": {},
     "output_type": "execute_result"
    }
   ],
   "source": [
    "# シーケンスデータが作成されている\n",
    "walks[:5]"
   ]
  },
  {
   "cell_type": "markdown",
   "id": "0d33d34c-5ea3-43b3-85f6-db47601587ba",
   "metadata": {},
   "source": [
    "### 正例と負例の生成\n",
    "スキップグラムモデルを学習するために、生成されたウォークを使って、正と負の学習例を作成します。各例題には以下の特徴が含まれています。\n",
    "\n",
    "- ターゲット。歩行シーケンス内のムービー。\n",
    "- context: 歩き方に含まれる別のムービー。\n",
    "- weight: この2つの映画が歩行シークエンスの中で何回出現したか。\n",
    "- label この2つのムービーが歩行シークエンスのサンプルであればラベルは1、そうでなければ（つまりランダムにサンプリングされていれば）ラベルは0となる。"
   ]
  },
  {
   "cell_type": "code",
   "execution_count": 24,
   "id": "344bbb15-76fb-470b-853f-6bd8541075b6",
   "metadata": {},
   "outputs": [
    {
     "name": "stderr",
     "output_type": "stream",
     "text": [
      "Generating postive and negative examples: 100%|██████████| 7025/7025 [00:05<00:00, 1340.33it/s]\n"
     ]
    }
   ],
   "source": [
    "def generate_examples(sequences, window_size, num_negative_samples, vocabulary_size):\n",
    "    example_weights = defaultdict(int)\n",
    "    # Iterate over all sequences (walks).\n",
    "    for sequence in tqdm(\n",
    "        sequences,\n",
    "        position=0,\n",
    "        leave=True,\n",
    "        desc=f\"Generating postive and negative examples\",\n",
    "    ):\n",
    "        # Generate positive and negative skip-gram pairs for a sequence (walk).\n",
    "        pairs, labels = keras.preprocessing.sequence.skipgrams(\n",
    "            sequence,\n",
    "            vocabulary_size=vocabulary_size,\n",
    "            window_size=window_size,\n",
    "            negative_samples=num_negative_samples,\n",
    "        )\n",
    "        for idx in range(len(pairs)):\n",
    "            pair = pairs[idx]\n",
    "            label = labels[idx]\n",
    "            target, context = min(pair[0], pair[1]), max(pair[0], pair[1])\n",
    "            if target == context:\n",
    "                continue\n",
    "            entry = (target, context, label)\n",
    "            example_weights[entry] += 1\n",
    "\n",
    "    targets, contexts, labels, weights = [], [], [], []\n",
    "    for entry in example_weights:\n",
    "        weight = example_weights[entry]\n",
    "        target, context, label = entry\n",
    "        targets.append(target)\n",
    "        contexts.append(context)\n",
    "        labels.append(label)\n",
    "        weights.append(weight)\n",
    "\n",
    "    return np.array(targets), np.array(contexts), np.array(labels), np.array(weights)\n",
    "\n",
    "\n",
    "num_negative_samples = 4\n",
    "targets, contexts, labels, weights = generate_examples(\n",
    "    sequences=walks,\n",
    "    window_size=num_steps,\n",
    "    num_negative_samples=num_negative_samples,\n",
    "    vocabulary_size=len(vocabulary),\n",
    ")"
   ]
  },
  {
   "cell_type": "code",
   "execution_count": 28,
   "id": "19d45669-07fc-47bc-bee3-2db96cbaeba7",
   "metadata": {},
   "outputs": [
    {
     "name": "stdout",
     "output_type": "stream",
     "text": [
      "Targets shape: (883328,)\n",
      "Contexts shape: (883328,)\n",
      "Labels shape: (883328,)\n",
      "Weights shape: (883328,)\n"
     ]
    }
   ],
   "source": [
    "print(f\"Targets shape: {targets.shape}\")\n",
    "print(f\"Contexts shape: {contexts.shape}\")\n",
    "print(f\"Labels shape: {labels.shape}\")\n",
    "print(f\"Weights shape: {weights.shape}\")"
   ]
  },
  {
   "cell_type": "markdown",
   "id": "5b14bae9-92dd-47e0-b4ce-b4403bc6de4e",
   "metadata": {},
   "source": [
    "## Convert the data into tf.data.Dataset objects"
   ]
  },
  {
   "cell_type": "code",
   "execution_count": 30,
   "id": "ddbecb24-35c5-4d00-83bd-c2f99c6ce935",
   "metadata": {},
   "outputs": [],
   "source": [
    "batch_size = 1024\n",
    "\n",
    "def create_dataset(targets, contexts, labels, weights, batch_size):\n",
    "    inputs = {\n",
    "        \"target\": targets,\n",
    "        \"context\": contexts,\n",
    "    }\n",
    "    dataset = tf.data.Dataset.from_tensor_slices((inputs, labels, weights))\n",
    "    dataset = dataset.shuffle(buffer_size=batch_size * 2)\n",
    "    dataset = dataset.batch(batch_size, drop_remainder=True)\n",
    "    dataset = dataset.prefetch(tf.data.AUTOTUNE)\n",
    "    return dataset\n",
    "\n",
    "\n",
    "dataset = create_dataset(\n",
    "    targets=targets,\n",
    "    contexts=contexts,\n",
    "    labels=labels,\n",
    "    weights=weights,\n",
    "    batch_size=batch_size,\n",
    ")"
   ]
  },
  {
   "cell_type": "markdown",
   "id": "da8b2dc3-4e39-481d-8960-97812803c513",
   "metadata": {},
   "source": [
    "## スキップ・グラム・モデルの学習\n",
    "\n",
    "スキップ・グラムは、次のように動作するシンプルな二値分類モデルです。\n",
    "\n",
    "対象となる映画について、埋め込みが検索される。  \n",
    "コンテキスト・ムービーのための埋め込みが検索される。  \n",
    "この2つのエンベッディングの間のドットプロダクトが計算されます。  \n",
    "その結果（シグモイド活性化の後）をラベルと比較します。  \n",
    "バイナリークロスエントロピー損失が用いられる。  "
   ]
  },
  {
   "cell_type": "code",
   "execution_count": 31,
   "id": "04039e8d-252d-4e77-9bc3-4e42b8ce3e62",
   "metadata": {},
   "outputs": [],
   "source": [
    "learning_rate = 0.001\n",
    "embedding_dim = 50\n",
    "num_epochs = 10\n",
    "\n",
    "def create_model(vocabulary_size, embedding_dim):\n",
    "\n",
    "    inputs = {\n",
    "        \"target\": layers.Input(name=\"target\", shape=(), dtype=\"int32\"),\n",
    "        \"context\": layers.Input(name=\"context\", shape=(), dtype=\"int32\"),\n",
    "    }\n",
    "    # Initialize item embeddings.\n",
    "    embed_item = layers.Embedding(\n",
    "        input_dim=vocabulary_size,\n",
    "        output_dim=embedding_dim,\n",
    "        embeddings_initializer=\"he_normal\",\n",
    "        embeddings_regularizer=keras.regularizers.l2(1e-6),\n",
    "        name=\"item_embeddings\",\n",
    "    )\n",
    "    # Lookup embeddings for target.\n",
    "    target_embeddings = embed_item(inputs[\"target\"])\n",
    "    # Lookup embeddings for context.\n",
    "    context_embeddings = embed_item(inputs[\"context\"])\n",
    "    # Compute dot similarity between target and context embeddings.\n",
    "    logits = layers.Dot(axes=1, normalize=False, name=\"dot_similarity\")(\n",
    "        [target_embeddings, context_embeddings]\n",
    "    )\n",
    "    # Create the model.\n",
    "    model = keras.Model(inputs=inputs, outputs=logits)\n",
    "    return model"
   ]
  },
  {
   "cell_type": "code",
   "execution_count": 32,
   "id": "719e532b-ccb1-4e2c-b6e4-40b701a99980",
   "metadata": {},
   "outputs": [
    {
     "data": {
      "image/png": "[encoded data removed]",
      "text/plain": [
       "<IPython.core.display.Image object>"
      ]
     },
     "execution_count": 32,
     "metadata": {},
     "output_type": "execute_result"
    }
   ],
   "source": [
    "model = create_model(len(vocabulary), embedding_dim)\n",
    "model.compile(\n",
    "    optimizer=keras.optimizers.Adam(learning_rate),\n",
    "    loss=keras.losses.BinaryCrossentropy(from_logits=True),\n",
    ")\n",
    "\n",
    "keras.utils.plot_model(\n",
    "    model, show_shapes=True, show_dtype=True, show_layer_names=True,\n",
    ")"
   ]
  },
  {
   "cell_type": "code",
   "execution_count": 33,
   "id": "3b3f4ed3-2b0f-4784-a7b8-c46c6a1184a3",
   "metadata": {},
   "outputs": [
    {
     "name": "stdout",
     "output_type": "stream",
     "text": [
      "Epoch 1/10\n",
      "862/862 [==============================] - 2s 2ms/step - loss: 2.4496\n",
      "Epoch 2/10\n",
      "862/862 [==============================] - 1s 2ms/step - loss: 2.3399\n",
      "Epoch 3/10\n",
      "862/862 [==============================] - 1s 2ms/step - loss: 2.3326\n",
      "Epoch 4/10\n",
      "862/862 [==============================] - 1s 2ms/step - loss: 2.3282\n",
      "Epoch 5/10\n",
      "862/862 [==============================] - 1s 2ms/step - loss: 2.3237\n",
      "Epoch 6/10\n",
      "862/862 [==============================] - 1s 2ms/step - loss: 2.3197\n",
      "Epoch 7/10\n",
      "862/862 [==============================] - 1s 2ms/step - loss: 2.3164\n",
      "Epoch 8/10\n",
      "862/862 [==============================] - 1s 2ms/step - loss: 2.3135\n",
      "Epoch 9/10\n",
      "862/862 [==============================] - 1s 2ms/step - loss: 2.3111\n",
      "Epoch 10/10\n",
      "862/862 [==============================] - 1s 2ms/step - loss: 2.3087\n"
     ]
    }
   ],
   "source": [
    "history = model.fit(dataset, epochs=num_epochs)"
   ]
  },
  {
   "cell_type": "code",
   "execution_count": 34,
   "id": "66322477-e6d2-404f-818c-d5498fd0ee0c",
   "metadata": {},
   "outputs": [
    {
     "data": {
      "image/png": "[encoded data removed]",
      "text/plain": [
       "<Figure size 432x288 with 1 Axes>"
      ]
     },
     "metadata": {
      "needs_background": "light"
     },
     "output_type": "display_data"
    }
   ],
   "source": [
    "plt.plot(history.history[\"loss\"])\n",
    "plt.ylabel(\"loss\")\n",
    "plt.xlabel(\"epoch\")\n",
    "plt.show()"
   ]
  },
  {
   "cell_type": "markdown",
   "id": "9dea00f7-5cd9-4938-bcef-72ce8eeecdb9",
   "metadata": {},
   "source": [
    "## Analyze the learnt embeddings."
   ]
  },
  {
   "cell_type": "code",
   "execution_count": 35,
   "id": "499bdc3e-a8c7-453d-94ba-0f886861f1d0",
   "metadata": {},
   "outputs": [
    {
     "name": "stdout",
     "output_type": "stream",
     "text": [
      "Embeddings shape: (1406, 50)\n"
     ]
    }
   ],
   "source": [
    "movie_embeddings = model.get_layer(\"item_embeddings\").get_weights()[0]\n",
    "print(\"Embeddings shape:\", movie_embeddings.shape)"
   ]
  },
  {
   "cell_type": "markdown",
   "id": "ec55e794-abe5-4a27-bc69-3c7fcc0d3175",
   "metadata": {},
   "source": [
    "## 関連ムービーの検索\n",
    "query_moviesという、いくつかの映画を含むリストを定義します。"
   ]
  },
  {
   "cell_type": "code",
   "execution_count": 36,
   "id": "1c73f712-e78a-4001-88ab-6bf22d101d80",
   "metadata": {},
   "outputs": [],
   "source": [
    "query_movies = [\n",
    "    \"Matrix, The (1999)\",\n",
    "    \"Star Wars: Episode IV - A New Hope (1977)\",\n",
    "    \"Lion King, The (1994)\",\n",
    "    \"Terminator 2: Judgment Day (1991)\",\n",
    "    \"Godfather, The (1972)\",\n",
    "]"
   ]
  },
  {
   "cell_type": "code",
   "execution_count": 37,
   "id": "d2787992-424c-4e43-aacd-b50a5f97ddf5",
   "metadata": {},
   "outputs": [],
   "source": [
    "# query_moviesに含まれる映画のエンベッディングを取得する。\n",
    "query_embeddings = []\n",
    "\n",
    "for movie_title in query_movies:\n",
    "    movieId = get_movie_id_by_title(movie_title)\n",
    "    token_id = vocabulary_lookup[movieId]\n",
    "    movie_embedding = movie_embeddings[token_id]\n",
    "    query_embeddings.append(movie_embedding)\n",
    "\n",
    "query_embeddings = np.array(query_embeddings)"
   ]
  },
  {
   "cell_type": "code",
   "execution_count": 39,
   "id": "a9b6a818-33c6-4d7b-ba02-f78c76bb7f74",
   "metadata": {},
   "outputs": [
    {
     "data": {
      "text/plain": [
       "(5, 50)"
      ]
     },
     "execution_count": 39,
     "metadata": {},
     "output_type": "execute_result"
    }
   ],
   "source": [
    "query_embeddings.shape"
   ]
  },
  {
   "cell_type": "markdown",
   "id": "c13d91b9-3123-471f-8d7c-391993831ab3",
   "metadata": {},
   "source": [
    "query_moviesの埋め込みと他の全ての映画の埋め込みとのコンサイン類似度を計算し、それぞれ上位k位を選ぶ。"
   ]
  },
  {
   "cell_type": "code",
   "execution_count": 40,
   "id": "d01ecfdc-41fc-4ce9-8fcb-d7f76a1a218b",
   "metadata": {},
   "outputs": [],
   "source": [
    "similarities = tf.linalg.matmul(\n",
    "    tf.math.l2_normalize(query_embeddings),\n",
    "    tf.math.l2_normalize(movie_embeddings),\n",
    "    transpose_b=True,\n",
    ")\n",
    "\n",
    "_, indices = tf.math.top_k(similarities, k=5)\n",
    "indices = indices.numpy().tolist()"
   ]
  },
  {
   "cell_type": "markdown",
   "id": "433eece5-e7a0-4931-bb8e-2690694cc3a6",
   "metadata": {},
   "source": [
    "query_moviesの中から、関連する上位のムービーを表示します。"
   ]
  },
  {
   "cell_type": "code",
   "execution_count": 41,
   "id": "9c180cac-049d-453b-8fe0-09c845267ae8",
   "metadata": {},
   "outputs": [
    {
     "name": "stdout",
     "output_type": "stream",
     "text": [
      "Matrix, The (1999)\n",
      "------------------\n",
      "- Matrix, The (1999)\n",
      "- Forrest Gump (1994)\n",
      "- Raiders of the Lost Ark (Indiana Jones and the Raiders of the Lost Ark) (1981)\n",
      "- Dark Knight, The (2008)\n",
      "- Star Wars: Episode VI - Return of the Jedi (1983)\n",
      "\n",
      "Star Wars: Episode IV - A New Hope (1977)\n",
      "-----------------------------------------\n",
      "- Forrest Gump (1994)\n",
      "- Raiders of the Lost Ark (Indiana Jones and the Raiders of the Lost Ark) (1981)\n",
      "- Braveheart (1995)\n",
      "- Star Wars: Episode IV - A New Hope (1977)\n",
      "- Star Wars: Episode VI - Return of the Jedi (1983)\n",
      "\n",
      "Lion King, The (1994)\n",
      "---------------------\n",
      "- Lion King, The (1994)\n",
      "- Independence Day (a.k.a. ID4) (1996)\n",
      "- Die Hard: With a Vengeance (1995)\n",
      "- Ghost (1990)\n",
      "- Forrest Gump (1994)\n",
      "\n",
      "Terminator 2: Judgment Day (1991)\n",
      "---------------------------------\n",
      "- Forrest Gump (1994)\n",
      "- Braveheart (1995)\n",
      "- Terminator 2: Judgment Day (1991)\n",
      "- Raiders of the Lost Ark (Indiana Jones and the Raiders of the Lost Ark) (1981)\n",
      "- Star Wars: Episode VI - Return of the Jedi (1983)\n",
      "\n",
      "Godfather, The (1972)\n",
      "---------------------\n",
      "- Godfather, The (1972)\n",
      "- Raiders of the Lost Ark (Indiana Jones and the Raiders of the Lost Ark) (1981)\n",
      "- Apocalypse Now (1979)\n",
      "- Fargo (1996)\n",
      "- Reservoir Dogs (1992)\n",
      "\n"
     ]
    }
   ],
   "source": [
    "for idx, title in enumerate(query_movies):\n",
    "    print(title)\n",
    "    print(\"\".rjust(len(title), \"-\"))\n",
    "    similar_tokens = indices[idx]\n",
    "    for token in similar_tokens:\n",
    "        similar_movieId = vocabulary[token]\n",
    "        similar_title = get_movie_title_by_id(similar_movieId)\n",
    "        print(f\"- {similar_title}\")\n",
    "    print()"
   ]
  },
  {
   "cell_type": "markdown",
   "id": "d53c169e-8164-4eee-8b61-44bb3f7e9c51",
   "metadata": {},
   "source": [
    "## Visualize the embeddings using the Embedding Projector"
   ]
  },
  {
   "cell_type": "code",
   "execution_count": 42,
   "id": "a7ba1c0f-b0bd-496c-b7c1-15b8f73e3392",
   "metadata": {},
   "outputs": [],
   "source": [
    "import io\n",
    "\n",
    "out_v = io.open(\"embeddings.tsv\", \"w\", encoding=\"utf-8\")\n",
    "out_m = io.open(\"metadata.tsv\", \"w\", encoding=\"utf-8\")\n",
    "\n",
    "for idx, movie_id in enumerate(vocabulary[1:]):\n",
    "    movie_title = list(movies[movies.movieId == movie_id].title)[0]\n",
    "    vector = movie_embeddings[idx]\n",
    "    out_v.write(\"\\t\".join([str(x) for x in vector]) + \"\\n\")\n",
    "    out_m.write(movie_title + \"\\n\")\n",
    "\n",
    "out_v.close()\n",
    "out_m.close()"
   ]
  },
  {
   "cell_type": "code",
   "execution_count": null,
   "id": "bfb28bc2-3608-45e7-972c-c59b5e3239c8",
   "metadata": {},
   "outputs": [],
   "source": []
  },
  {
   "cell_type": "code",
   "execution_count": null,
   "id": "119be820-3a70-4f8c-8005-7edf2000b9ba",
   "metadata": {},
   "outputs": [],
   "source": []
  },
  {
   "cell_type": "code",
   "execution_count": null,
   "id": "db4c4edb-a8fa-46af-957c-7b2c89e43380",
   "metadata": {},
   "outputs": [],
   "source": []
  },
  {
   "cell_type": "code",
   "execution_count": null,
   "id": "c390fcbc-21c1-4f6a-84b5-fca4240d3993",
   "metadata": {},
   "outputs": [],
   "source": []
  },
  {
   "cell_type": "code",
   "execution_count": null,
   "id": "e4208de8-2820-4dc4-a05f-e0baeb24592d",
   "metadata": {},
   "outputs": [],
   "source": []
  },
  {
   "cell_type": "code",
   "execution_count": null,
   "id": "6fec05aa-a0bb-4c17-8c5f-3e91216b023e",
   "metadata": {},
   "outputs": [],
   "source": []
  },
  {
   "cell_type": "code",
   "execution_count": null,
   "id": "4a886d9f-148c-48d8-b66e-1e379e869971",
   "metadata": {},
   "outputs": [],
   "source": []
  },
  {
   "cell_type": "code",
   "execution_count": null,
   "id": "81994de8-1b5b-4af8-b3e0-3af4d419faee",
   "metadata": {},
   "outputs": [],
   "source": []
  }
 ],
 "metadata": {
  "kernelspec": {
   "display_name": "Python 3 (ipykernel)",
   "language": "python",
   "name": "python3"
  },
  "language_info": {
   "codemirror_mode": {
    "name": "ipython",
    "version": 3
   },
   "file_extension": ".py",
   "mimetype": "text/x-python",
   "name": "python",
   "nbconvert_exporter": "python",
   "pygments_lexer": "ipython3",
   "version": "3.9.9"
  }
 },
 "nbformat": 4,
 "nbformat_minor": 5
}
